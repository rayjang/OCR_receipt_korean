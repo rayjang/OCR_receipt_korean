{
 "cells": [
  {
   "cell_type": "code",
   "execution_count": 1,
   "metadata": {},
   "outputs": [],
   "source": [
    "import numpy as np\n",
    "import cv2\n",
    "import pytesseract\n",
    "#from matplotlib import pyplot as plt"
   ]
  },
  {
   "cell_type": "code",
   "execution_count": 2,
   "metadata": {},
   "outputs": [],
   "source": [
    "def image_rotate(img_path):\n",
    "    ele_size=(8,2)\n",
    "    image = cv2.imread(img_path)\n",
    "    img = cv2.cvtColor(image,cv2.COLOR_BGR2GRAY)\n",
    "    img_sobel = cv2.Sobel(img,cv2.CV_8U,1,0)#same as default,None,3,1,0,cv2.BORDER_DEFAULT)\n",
    "    img_threshold = cv2.threshold(img_sobel,0,255,cv2.THRESH_OTSU+cv2.THRESH_BINARY)\n",
    "    element = cv2.getStructuringElement(cv2.MORPH_RECT,ele_size)\n",
    "    thresh = cv2.morphologyEx(img_threshold[1],cv2.MORPH_CLOSE,element)\n",
    "    coords = np.column_stack(np.where(thresh > 0))\n",
    "    angle = cv2.minAreaRect(coords)[-1]\n",
    "\n",
    "    if angle < -45:\n",
    "        angle = -(90 + angle)\n",
    "    else:\n",
    "        angle = -angle\n",
    "\n",
    "    (h, w) = image.shape[:2]\n",
    "    center = (w // 2, h // 2)\n",
    "    M = cv2.getRotationMatrix2D(center, angle, 1.0)\n",
    "    rotated = cv2.warpAffine(image, M, (w, h),flags=cv2.INTER_CUBIC, borderMode=cv2.BORDER_REPLICATE)\n",
    "    return rotated"
   ]
  },
  {
   "cell_type": "code",
   "execution_count": 20,
   "metadata": {},
   "outputs": [],
   "source": [
    "def resize_image(img,dx,dy):\n",
    "    # scale_percent:percent of original size\n",
    "#     width = int(img.shape[1] * scale_percent / 100)\n",
    "#     height = int(img.shape[0] * scale_percent / 100)\n",
    "#     dim = (width, height)\n",
    "    # resize image\n",
    "    resized = cv2.resize(img, None,fx=dx, fy=dy , interpolation = cv2.INTER_CUBIC)\n",
    "    cv2.imwrite(resized, './resized.jpg')\n",
    "    return resized"
   ]
  },
  {
   "cell_type": "code",
   "execution_count": 4,
   "metadata": {},
   "outputs": [],
   "source": [
    "def text_detect(img,ele_size=(8,2)): #\n",
    "    if len(img.shape)==3:\n",
    "        img = cv2.cvtColor(img,cv2.COLOR_BGR2GRAY)\n",
    "    img_sobel = cv2.Sobel(img,cv2.CV_8U,1,0)#same as default,None,3,1,0,cv2.BORDER_DEFAULT)\n",
    "    img_threshold = cv2.threshold(img_sobel,0,255,cv2.THRESH_OTSU+cv2.THRESH_BINARY)\n",
    "    element = cv2.getStructuringElement(cv2.MORPH_RECT,ele_size)\n",
    "    img_threshold = cv2.morphologyEx(img_threshold[1],cv2.MORPH_CLOSE,element)\n",
    "    res = cv2.findContours(img_threshold, cv2.RETR_EXTERNAL, cv2.CHAIN_APPROX_NONE)\n",
    "    if cv2.__version__.split(\".\")[0] == '3':\n",
    "        _, contours, hierarchy = res\n",
    "    else:\n",
    "        contours, hierarchy = res\n",
    "    Rect = [cv2.boundingRect(i) for i in contours if i.shape[0]>100]\n",
    "    RectP = [(int(i[0]-i[2]*0.08),int(i[1]-i[3]*0.1),int(i[0]+i[2]*1.1),int(i[1]+i[3]*1.2)) for i in Rect]\n",
    "    return RectP"
   ]
  },
  {
   "cell_type": "code",
   "execution_count": 5,
   "metadata": {},
   "outputs": [],
   "source": [
    "def OCR_image(img):\n",
    "    return pytesseract.image_to_string(img, lang='kor+eng')"
   ]
  },
  {
   "cell_type": "code",
   "execution_count": 6,
   "metadata": {},
   "outputs": [],
   "source": [
    "def OCR_detected_image(img, RectP):\n",
    "    for j in RectP:\n",
    "        roi = img[j[1]:j[3],:]\n",
    "        try:\n",
    "            print(pytesseract.image_to_string(roi, lang='kor'))\n",
    "        except:\n",
    "            pass\n",
    "    "
   ]
  },
  {
   "cell_type": "code",
   "execution_count": null,
   "metadata": {},
   "outputs": [],
   "source": []
  }
 ],
 "metadata": {
  "kernelspec": {
   "display_name": "Python 3",
   "language": "python",
   "name": "python3"
  },
  "language_info": {
   "codemirror_mode": {
    "name": "ipython",
    "version": 3
   },
   "file_extension": ".py",
   "mimetype": "text/x-python",
   "name": "python",
   "nbconvert_exporter": "python",
   "pygments_lexer": "ipython3",
   "version": "3.6.7"
  }
 },
 "nbformat": 4,
 "nbformat_minor": 4
}
